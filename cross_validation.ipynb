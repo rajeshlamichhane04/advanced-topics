{
 "cells": [
  {
   "cell_type": "markdown",
   "id": "e0a10304-13a2-4be6-9bf0-db552e9c251b",
   "metadata": {},
   "source": [
    "Do your work for this exercise in a jupyter notebook or python script named cross_validation.\n",
    "\n",
    "Use the cross validation techniques discussed in the lesson to figure out what kind of model works best with the cars dataset used in the lesson."
   ]
  },
  {
   "cell_type": "code",
   "execution_count": 1,
   "id": "71475e71-5b8b-4bd0-930d-3dc09ed905fd",
   "metadata": {},
   "outputs": [],
   "source": [
    "import numpy as np\n",
    "import pandas as pd\n",
    "\n",
    "import matplotlib.pyplot as plt\n",
    "from pydataset import data\n",
    "\n",
    "from sklearn.model_selection import train_test_split\n",
    "from sklearn.tree import DecisionTreeClassifier\n",
    "from sklearn.neighbors import KNeighborsClassifier"
   ]
  },
  {
   "cell_type": "code",
   "execution_count": 2,
   "id": "4c15a99a-b5fa-45b5-8eef-ad77f8625059",
   "metadata": {},
   "outputs": [
    {
     "data": {
      "text/html": [
       "<div>\n",
       "<style scoped>\n",
       "    .dataframe tbody tr th:only-of-type {\n",
       "        vertical-align: middle;\n",
       "    }\n",
       "\n",
       "    .dataframe tbody tr th {\n",
       "        vertical-align: top;\n",
       "    }\n",
       "\n",
       "    .dataframe thead th {\n",
       "        text-align: right;\n",
       "    }\n",
       "</style>\n",
       "<table border=\"1\" class=\"dataframe\">\n",
       "  <thead>\n",
       "    <tr style=\"text-align: right;\">\n",
       "      <th></th>\n",
       "      <th>manufacturer</th>\n",
       "      <th>model</th>\n",
       "      <th>displ</th>\n",
       "      <th>year</th>\n",
       "      <th>cyl</th>\n",
       "      <th>trans</th>\n",
       "      <th>drv</th>\n",
       "      <th>cty</th>\n",
       "      <th>hwy</th>\n",
       "      <th>fl</th>\n",
       "      <th>class</th>\n",
       "    </tr>\n",
       "  </thead>\n",
       "  <tbody>\n",
       "    <tr>\n",
       "      <th>1</th>\n",
       "      <td>audi</td>\n",
       "      <td>a4</td>\n",
       "      <td>1.8</td>\n",
       "      <td>1999</td>\n",
       "      <td>4</td>\n",
       "      <td>auto(l5)</td>\n",
       "      <td>f</td>\n",
       "      <td>18</td>\n",
       "      <td>29</td>\n",
       "      <td>p</td>\n",
       "      <td>compact</td>\n",
       "    </tr>\n",
       "    <tr>\n",
       "      <th>2</th>\n",
       "      <td>audi</td>\n",
       "      <td>a4</td>\n",
       "      <td>1.8</td>\n",
       "      <td>1999</td>\n",
       "      <td>4</td>\n",
       "      <td>manual(m5)</td>\n",
       "      <td>f</td>\n",
       "      <td>21</td>\n",
       "      <td>29</td>\n",
       "      <td>p</td>\n",
       "      <td>compact</td>\n",
       "    </tr>\n",
       "    <tr>\n",
       "      <th>3</th>\n",
       "      <td>audi</td>\n",
       "      <td>a4</td>\n",
       "      <td>2.0</td>\n",
       "      <td>2008</td>\n",
       "      <td>4</td>\n",
       "      <td>manual(m6)</td>\n",
       "      <td>f</td>\n",
       "      <td>20</td>\n",
       "      <td>31</td>\n",
       "      <td>p</td>\n",
       "      <td>compact</td>\n",
       "    </tr>\n",
       "    <tr>\n",
       "      <th>4</th>\n",
       "      <td>audi</td>\n",
       "      <td>a4</td>\n",
       "      <td>2.0</td>\n",
       "      <td>2008</td>\n",
       "      <td>4</td>\n",
       "      <td>auto(av)</td>\n",
       "      <td>f</td>\n",
       "      <td>21</td>\n",
       "      <td>30</td>\n",
       "      <td>p</td>\n",
       "      <td>compact</td>\n",
       "    </tr>\n",
       "    <tr>\n",
       "      <th>5</th>\n",
       "      <td>audi</td>\n",
       "      <td>a4</td>\n",
       "      <td>2.8</td>\n",
       "      <td>1999</td>\n",
       "      <td>6</td>\n",
       "      <td>auto(l5)</td>\n",
       "      <td>f</td>\n",
       "      <td>16</td>\n",
       "      <td>26</td>\n",
       "      <td>p</td>\n",
       "      <td>compact</td>\n",
       "    </tr>\n",
       "  </tbody>\n",
       "</table>\n",
       "</div>"
      ],
      "text/plain": [
       "  manufacturer model  displ  year  cyl       trans drv  cty  hwy fl    class\n",
       "1         audi    a4    1.8  1999    4    auto(l5)   f   18   29  p  compact\n",
       "2         audi    a4    1.8  1999    4  manual(m5)   f   21   29  p  compact\n",
       "3         audi    a4    2.0  2008    4  manual(m6)   f   20   31  p  compact\n",
       "4         audi    a4    2.0  2008    4    auto(av)   f   21   30  p  compact\n",
       "5         audi    a4    2.8  1999    6    auto(l5)   f   16   26  p  compact"
      ]
     },
     "execution_count": 2,
     "metadata": {},
     "output_type": "execute_result"
    }
   ],
   "source": [
    "#grab data\n",
    "df = data(\"mpg\")\n",
    "df.head()"
   ]
  },
  {
   "cell_type": "code",
   "execution_count": 3,
   "id": "91102fa3-3f9b-4e24-9a7f-3b8d87dec1f4",
   "metadata": {},
   "outputs": [],
   "source": [
    "#change trans columns to auto and manual\n",
    "df[\"trans\"]=np.where(df.trans.str.startswith(\"auto\"),\"auto\", \"manual\")"
   ]
  },
  {
   "cell_type": "code",
   "execution_count": 4,
   "id": "54e99b14-efe6-4c3a-b90d-0011062f406c",
   "metadata": {},
   "outputs": [
    {
     "data": {
      "text/plain": [
       "array(['auto', 'manual'], dtype=object)"
      ]
     },
     "execution_count": 4,
     "metadata": {},
     "output_type": "execute_result"
    }
   ],
   "source": [
    "df.trans.unique()"
   ]
  },
  {
   "cell_type": "markdown",
   "id": "37c13398-ee53-496a-906d-9dd08570bd4c",
   "metadata": {},
   "source": [
    "### Model"
   ]
  },
  {
   "cell_type": "code",
   "execution_count": 5,
   "id": "05722505-0fff-44bf-a4d6-f81c779a0da6",
   "metadata": {},
   "outputs": [],
   "source": [
    "#split into x and y\n",
    "X= df[[\"displ\",\"year\",\"cyl\",\"cty\",\"hwy\"]]\n",
    "y= df.trans"
   ]
  },
  {
   "cell_type": "code",
   "execution_count": 6,
   "id": "73459be4-0a79-480a-b1c5-114bf710f955",
   "metadata": {},
   "outputs": [],
   "source": [
    "#split data\n",
    "#train and test\n",
    "X_train,X_test, y_train,y_test = train_test_split(X,y, test_size = 0.2, random_state =123)"
   ]
  },
  {
   "cell_type": "code",
   "execution_count": 7,
   "id": "cb072352-e723-4966-a480-337d41645438",
   "metadata": {},
   "outputs": [],
   "source": [
    "#split data train and validate\n",
    "X_train,X_val, y_train, y_val = train_test_split(X_train,y_train, test_size = 0.3, random_state = 124)"
   ]
  },
  {
   "cell_type": "code",
   "execution_count": 8,
   "id": "c726990d-4676-4f47-b744-9c2ef33f2ef8",
   "metadata": {},
   "outputs": [
    {
     "data": {
      "text/plain": [
       "((130, 5), (57, 5), (47, 5))"
      ]
     },
     "execution_count": 8,
     "metadata": {},
     "output_type": "execute_result"
    }
   ],
   "source": [
    "#check split\n",
    "X_train.shape,X_val.shape,X_test.shape"
   ]
  },
  {
   "cell_type": "code",
   "execution_count": 9,
   "id": "cbd89495-e5d6-4bf9-a47d-d903c14d58db",
   "metadata": {},
   "outputs": [],
   "source": [
    "#import cross val\n",
    "from sklearn.model_selection import cross_val_score"
   ]
  },
  {
   "cell_type": "code",
   "execution_count": 11,
   "id": "b0b2d0cb-1529-45df-9db6-5c3a1c47bd76",
   "metadata": {},
   "outputs": [],
   "source": [
    "#create tree\n",
    "tree = DecisionTreeClassifier(max_depth = 4, random_state=123)"
   ]
  },
  {
   "cell_type": "code",
   "execution_count": 12,
   "id": "1f04ef45-53ec-4af0-ba56-84ab549cf5a7",
   "metadata": {},
   "outputs": [
    {
     "data": {
      "text/plain": [
       "array([0.57692308, 0.61538462, 0.73076923, 0.65384615, 0.73076923])"
      ]
     },
     "execution_count": 12,
     "metadata": {},
     "output_type": "execute_result"
    }
   ],
   "source": [
    "#cross val score\n",
    "cross_val_score(tree,X_train,y_train, cv = 5)"
   ]
  },
  {
   "cell_type": "code",
   "execution_count": 13,
   "id": "c9a4cf71-fae5-4b93-8e7a-af3d178b1f35",
   "metadata": {},
   "outputs": [
    {
     "data": {
      "text/plain": [
       "0.6615384615384615"
      ]
     },
     "execution_count": 13,
     "metadata": {},
     "output_type": "execute_result"
    }
   ],
   "source": [
    "#average of cv score\n",
    "cross_val_score(tree,X_train,y_train,cv=5).mean()"
   ]
  },
  {
   "cell_type": "code",
   "execution_count": 14,
   "id": "afb5f0da-1e5a-4fe7-8b0e-ea3a07f33760",
   "metadata": {},
   "outputs": [
    {
     "data": {
      "image/png": "[encoded data removed]",
      "text/plain": [
       "<Figure size 432x288 with 1 Axes>"
      ]
     },
     "metadata": {
      "needs_background": "light"
     },
     "output_type": "display_data"
    }
   ],
   "source": [
    "#we will plot for best max_depth\n",
    "result = []\n",
    "for i in range(1,20):\n",
    "    tree = DecisionTreeClassifier(max_depth = i, random_state = 123)\n",
    "    score = cross_val_score(tree,X_train,y_train, cv=5).mean()\n",
    "    result.append([i, score])\n",
    "    \n",
    "pd.DataFrame(result, columns = [\"max_depth\", \"accuracy_score\"])\\\n",
    "    .set_index(\"max_depth\").plot(xticks = range(1,20))\n",
    "plt.show()"
   ]
  },
  {
   "cell_type": "code",
   "execution_count": 15,
   "id": "ecca3d93-5407-488c-a7dd-20132950eb0e",
   "metadata": {},
   "outputs": [],
   "source": [
    "#from the plot, we can deduce 8 as optimal max_depth"
   ]
  },
  {
   "cell_type": "markdown",
   "id": "58538464-d47c-480c-bc2b-135a3d0775da",
   "metadata": {},
   "source": [
    "### Grid Search"
   ]
  },
  {
   "cell_type": "code",
   "execution_count": 16,
   "id": "24bd887e-b2cf-467e-b5f6-d5e804b60cff",
   "metadata": {},
   "outputs": [],
   "source": [
    "#import\n",
    "from sklearn.model_selection import GridSearchCV"
   ]
  },
  {
   "cell_type": "code",
   "execution_count": 27,
   "id": "99b33f9e-3260-47f8-ba78-d85cfa0b0f4e",
   "metadata": {},
   "outputs": [],
   "source": [
    "#create object\n",
    "tree = DecisionTreeClassifier(random_state = 123)"
   ]
  },
  {
   "cell_type": "code",
   "execution_count": 37,
   "id": "8fe6f8b6-69f1-409f-9b99-eeb6bfa539ff",
   "metadata": {},
   "outputs": [],
   "source": [
    "#set parameters to optimize\n",
    "params = {\"max_depth\" : range(1,21),\n",
    "          \"min_sample_leaf\" : range(1,11),\n",
    "          \"criterion\" : [\"gini\",\"entropy\"]}\n"
   ]
  },
  {
   "cell_type": "code",
   "execution_count": 39,
   "id": "a2ea4367-e371-4685-893f-379e3d65068e",
   "metadata": {},
   "outputs": [],
   "source": [
    "#create grid object\n",
    "grid = GridSearchCV(tree,params, cv = 4)"
   ]
  },
  {
   "cell_type": "code",
   "execution_count": 41,
   "id": "a125b6ed-516a-4c3d-acdb-1ac5c9765414",
   "metadata": {},
   "outputs": [],
   "source": [
    "#fit\n",
    "#grid.fit(X_train,y_train)"
   ]
  },
  {
   "cell_type": "code",
   "execution_count": null,
   "id": "3e9b5948-603b-48a5-b156-8b75b2fc8e97",
   "metadata": {},
   "outputs": [],
   "source": []
  },
  {
   "cell_type": "code",
   "execution_count": null,
   "id": "71b5216e-ccaf-4443-85fa-25ce3d99e432",
   "metadata": {},
   "outputs": [],
   "source": []
  },
  {
   "cell_type": "code",
   "execution_count": null,
   "id": "d57f382f-27f0-4ba5-902d-3a93b799c032",
   "metadata": {},
   "outputs": [],
   "source": []
  },
  {
   "cell_type": "code",
   "execution_count": null,
   "id": "f8fe1057-d166-435b-9df1-c3728f56ba02",
   "metadata": {},
   "outputs": [],
   "source": []
  }
 ],
 "metadata": {
  "kernelspec": {
   "display_name": "Python 3 (ipykernel)",
   "language": "python",
   "name": "python3"
  },
  "language_info": {
   "codemirror_mode": {
    "name": "ipython",
    "version": 3
   },
   "file_extension": ".py",
   "mimetype": "text/x-python",
   "name": "python",
   "nbconvert_exporter": "python",
   "pygments_lexer": "ipython3",
   "version": "3.9.12"
  }
 },
 "nbformat": 4,
 "nbformat_minor": 5
}
